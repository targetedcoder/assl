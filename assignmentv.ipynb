{
 "cells": [
  {
   "cell_type": "code",
   "execution_count": 2,
   "id": "2df5f422",
   "metadata": {},
   "outputs": [
    {
     "name": "stdout",
     "output_type": "stream",
     "text": [
      "55\n",
      "3628800\n"
     ]
    }
   ],
   "source": [
    "s=0\n",
    "p=1\n",
    "for i in range(1,11):\n",
    "   s=s+i\n",
    "   p=p*i\n",
    "print(s)\n",
    "print(p)"
   ]
  },
  {
   "cell_type": "code",
   "execution_count": 6,
   "id": "b5cbbc5d",
   "metadata": {},
   "outputs": [
    {
     "name": "stdout",
     "output_type": "stream",
     "text": [
      "Enter the units consumed:\n",
      "310\n",
      "2250.0\n"
     ]
    }
   ],
   "source": [
    "ch=0\n",
    "fh=0\n",
    "sh=0\n",
    "th=0\n",
    "fth=0\n",
    "total=0\n",
    "print(\"Enter the units consumed:\")\n",
    "u=int(input())\n",
    "if(u<=100):\n",
    "    ch=u*4.5\n",
    "    total=ch\n",
    "elif (u>100 and u<=200):\n",
    "    fh=100*4.5\n",
    "    sh=(u-100)*6\n",
    "    total=fh+sh\n",
    "elif (u>200 and u<=300):\n",
    "    fh=100*4.5\n",
    "    sh=100*6\n",
    "    th=(u-200)*10\n",
    "    total=fh+sh+th\n",
    "elif (u>300):\n",
    "    fh=100*4.5\n",
    "    sh=100*6\n",
    "    th=100*10\n",
    "    fth=(u-300)*20\n",
    "    total=fh+sh+th+fth\n",
    "print(total)"
   ]
  },
  {
   "cell_type": "code",
   "execution_count": 7,
   "id": "654f3de0",
   "metadata": {},
   "outputs": [
    {
     "name": "stdout",
     "output_type": "stream",
     "text": [
      "[3, 6, 7, 9, 11, 12, 15, 19, 23, 26, 27, 29, 31, 32, 35, 39, 43, 46, 47, 49, 51, 52, 55, 59, 63, 66, 67, 69, 71, 72, 75, 79, 83, 86, 87, 89, 91, 92, 95, 99]\n"
     ]
    }
   ],
   "source": [
    "l=[]\n",
    "for i in range(1,101):\n",
    "    cu=i^3\n",
    "    if(cu%4==0 or cu%5==0):\n",
    "        l.append(i)\n",
    "print(l)"
   ]
  },
  {
   "cell_type": "code",
   "execution_count": 8,
   "id": "beee6718",
   "metadata": {},
   "outputs": [
    {
     "name": "stdout",
     "output_type": "stream",
     "text": [
      "12\n"
     ]
    }
   ],
   "source": [
    "string=\"I want to become a data scientist\"\n",
    "c=0\n",
    "for i in string:\n",
    "    if(i=='a' or i=='e' or i=='i' or i=='o' or i=='u' or i=='A' or i==\"E\" or i==\"I\" or i==\"O\" or i==\"U\"):\n",
    "        c=c+1\n",
    "print(c)      \n",
    "        "
   ]
  },
  {
   "cell_type": "code",
   "execution_count": null,
   "id": "c07a079f",
   "metadata": {},
   "outputs": [],
   "source": []
  }
 ],
 "metadata": {
  "kernelspec": {
   "display_name": "Python 3 (ipykernel)",
   "language": "python",
   "name": "python3"
  },
  "language_info": {
   "codemirror_mode": {
    "name": "ipython",
    "version": 3
   },
   "file_extension": ".py",
   "mimetype": "text/x-python",
   "name": "python",
   "nbconvert_exporter": "python",
   "pygments_lexer": "ipython3",
   "version": "3.9.13"
  }
 },
 "nbformat": 4,
 "nbformat_minor": 5
}
